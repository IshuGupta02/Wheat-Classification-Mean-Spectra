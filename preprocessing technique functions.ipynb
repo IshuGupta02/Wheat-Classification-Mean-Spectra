{
 "cells": [
  {
   "cell_type": "code",
   "execution_count": null,
   "id": "f79eb839",
   "metadata": {},
   "outputs": [],
   "source": [
    "#Standard Normal Variate\n",
    "def snv(input_data):\n",
    "  \n",
    "    # Define a new array and populate it with the corrected data  \n",
    "    output_data = np.zeros_like(input_data)\n",
    "    for i in range(input_data.shape[0]):\n",
    " \n",
    "        # Apply correction\n",
    "        output_data[i,:] = (input_data[i,:] - np.mean(input_data[i,:])) / np.std(input_data[i,:])\n",
    " \n",
    "    return output_data"
   ]
  },
  {
   "cell_type": "code",
   "execution_count": null,
   "id": "6306087f",
   "metadata": {},
   "outputs": [],
   "source": [
    "# for calling SNV\n",
    "df_2=pd.DataFrame(X_train)\n",
    "df_2_test=pd.DataFrame(X_test)"
   ]
  },
  {
   "cell_type": "code",
   "execution_count": null,
   "id": "490a3dd9",
   "metadata": {},
   "outputs": [],
   "source": [
    "# Multiplicative scatter correction\n",
    "def msc(input_data, reference=None):\n",
    "    ''' Perform Multiplicative scatter correction'''\n",
    "\n",
    "    # Baseline correction\n",
    "    for i in range(input_data.shape[0]):\n",
    "        input_data[i,:] -= input_data[i,:].mean()\n",
    "\n",
    "    # Get the reference spectrum. If not given, estimate from the mean    \n",
    "    if reference is None:    \n",
    "        # Calculate mean\n",
    "        matm = np.mean(input_data, axis=0)\n",
    "    else:\n",
    "        matm = reference\n",
    "\n",
    "    # Define a new data matrix and populate it with the corrected data    \n",
    "    output_data = np.zeros_like(input_data)\n",
    "    for i in range(input_data.shape[0]):\n",
    "        # Run regression\n",
    "        fit = np.polyfit(matm, input_data[i,:], 1, full=True)\n",
    "        # Apply correction\n",
    "        output_data[i,:] = (input_data[i,:] - fit[0][1]) / fit[0][0] \n",
    "\n",
    "    return (output_data)"
   ]
  },
  {
   "cell_type": "code",
   "execution_count": null,
   "id": "4246ab67",
   "metadata": {},
   "outputs": [],
   "source": [
    "X_train2=msc(np.array(df_2))\n",
    "X_test2=msc(np.array(df_2_test))"
   ]
  },
  {
   "cell_type": "code",
   "execution_count": null,
   "id": "c38fb80e",
   "metadata": {},
   "outputs": [],
   "source": [
    "#Savitzky-Golay smoothing\n",
    "from scipy.signal import savgol_filter, general_gaussian\n",
    "w = 7  #11  accuracy=0.9798280423280423, w=9 accuracy=0.9809854497354498 ,w=7, accuracy=0.9816468253968254\n",
    "p = 2\n"
   ]
  },
  {
   "cell_type": "code",
   "execution_count": null,
   "id": "6874c87c",
   "metadata": {},
   "outputs": [],
   "source": [
    "X_train3=savgol_filter(np.array(df_2), w, polyorder = p, deriv=0)"
   ]
  },
  {
   "cell_type": "code",
   "execution_count": null,
   "id": "0837a52c",
   "metadata": {},
   "outputs": [],
   "source": [
    "X_test3=savgol_filter(np.array(df_2_test), w, polyorder = p, deriv=0)"
   ]
  },
  {
   "cell_type": "code",
   "execution_count": null,
   "id": "b27da084",
   "metadata": {},
   "outputs": [],
   "source": [
    "#Savitzky-Golay 1st derivative\n",
    "from scipy.signal import savgol_filter, general_gaussian\n",
    "w = 7\n",
    "p = 2\n",
    "#sgf_1=savgol_filter(np.array(df_1), w, polyorder = p, deriv=1)"
   ]
  },
  {
   "cell_type": "code",
   "execution_count": null,
   "id": "059cb198",
   "metadata": {},
   "outputs": [],
   "source": [
    "X_train4=savgol_filter(np.array(df_2), w, polyorder = p, deriv=1)\n",
    "X_test4=savgol_filter(np.array(df_2_test), w, polyorder = p, deriv=1)"
   ]
  },
  {
   "cell_type": "code",
   "execution_count": null,
   "id": "04b42a0c",
   "metadata": {},
   "outputs": [],
   "source": [
    "#Savitzky-Golay 2nd derivative\n",
    "from scipy.signal import savgol_filter, general_gaussian\n",
    "w = 7\n",
    "p = 2\n",
    "X_train5=savgol_filter(np.array(df_2), w, polyorder = p, deriv=2)\n",
    "X_test5=savgol_filter(np.array(df_2_test), w, polyorder = p, deriv=2)"
   ]
  }
 ],
 "metadata": {
  "kernelspec": {
   "display_name": "Python 3 (ipykernel)",
   "language": "python",
   "name": "python3"
  },
  "language_info": {
   "codemirror_mode": {
    "name": "ipython",
    "version": 3
   },
   "file_extension": ".py",
   "mimetype": "text/x-python",
   "name": "python",
   "nbconvert_exporter": "python",
   "pygments_lexer": "ipython3",
   "version": "3.9.0"
  }
 },
 "nbformat": 4,
 "nbformat_minor": 5
}
